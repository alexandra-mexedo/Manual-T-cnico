{
 "cells": [
  {
   "cell_type": "markdown",
   "id": "4131adbc",
   "metadata": {},
   "source": [
    "# Manual Técnico\n",
    "\n"
   ]
  },
  {
   "cell_type": "markdown",
   "id": "28f7635d",
   "metadata": {},
   "source": [
    "## 1. Índice\n"
   ]
  },
  {
   "cell_type": "markdown",
   "id": "13c89d5d",
   "metadata": {},
   "source": [
    "Escrever índice\n"
   ]
  },
  {
   "cell_type": "markdown",
   "id": "553d32a2",
   "metadata": {},
   "source": [
    "## 2. Introdução"
   ]
  },
  {
   "cell_type": "markdown",
   "id": "fd0e8f63",
   "metadata": {},
   "source": [
    "Descrição do projeto"
   ]
  },
  {
   "cell_type": "markdown",
   "id": "5b49b6ad",
   "metadata": {},
   "source": [
    "## 3. Descrição dos dados"
   ]
  },
  {
   "cell_type": "markdown",
   "id": "db1bd0e7",
   "metadata": {},
   "source": [
    "1. Pré-processamento dos ficheiros\n",
    "2. EDA das variáveis que influenciam o dwell time"
   ]
  },
  {
   "cell_type": "markdown",
   "id": "800f80de",
   "metadata": {},
   "source": [
    "## 4. Métodos e algoritmos"
   ]
  },
  {
   "cell_type": "markdown",
   "id": "af903376",
   "metadata": {},
   "source": [
    "1. Ferramentas e software analítico\n",
    "2. Técnicas de análise de dados\n",
    "    1. Ajustes lineares\n",
    "    2. Modelagem não paramétrica"
   ]
  },
  {
   "cell_type": "markdown",
   "id": "1904d113",
   "metadata": {},
   "source": [
    "## 5. Vizualização e interpretação "
   ]
  },
  {
   "cell_type": "markdown",
   "id": "b07a27c3",
   "metadata": {},
   "source": [
    "Diretrizes para interpretar as visualizações de dados criadas (gráficos)."
   ]
  },
  {
   "cell_type": "markdown",
   "id": "03e2f30a",
   "metadata": {},
   "source": [
    "## 6. Resultados finais"
   ]
  },
  {
   "cell_type": "markdown",
   "id": "9736295c",
   "metadata": {},
   "source": [
    "## 7. Conclusões"
   ]
  }
 ],
 "metadata": {
  "kernelspec": {
   "display_name": "Python 3 (ipykernel)",
   "language": "python",
   "name": "python3"
  },
  "language_info": {
   "codemirror_mode": {
    "name": "ipython",
    "version": 3
   },
   "file_extension": ".py",
   "mimetype": "text/x-python",
   "name": "python",
   "nbconvert_exporter": "python",
   "pygments_lexer": "ipython3",
   "version": "3.9.7"
  }
 },
 "nbformat": 4,
 "nbformat_minor": 5
}
