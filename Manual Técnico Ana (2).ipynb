{
 "cells": [
  {
   "cell_type": "markdown",
   "id": "309d9878",
   "metadata": {},
   "source": [
    "# Manual Técnico\n",
    "\n"
   ]
  },
  {
   "cell_type": "markdown",
   "id": "84bb077b",
   "metadata": {},
   "source": [
    "## 1. Índice\n"
   ]
  },
  {
   "cell_type": "markdown",
   "id": "c9962e70",
   "metadata": {},
   "source": [
    "Escrever índice\n"
   ]
  },
  {
   "cell_type": "markdown",
   "id": "68f7de31",
   "metadata": {},
   "source": [
    "## 2. Introdução"
   ]
  },
  {
   "cell_type": "markdown",
   "id": "60da6938",
   "metadata": {},
   "source": [
    "Descrição do projeto"
   ]
  },
  {
   "cell_type": "markdown",
   "id": "d64be3ce",
   "metadata": {},
   "source": [
    "## 3. Descrição dos dados"
   ]
  },
  {
   "cell_type": "markdown",
   "id": "1ae128b8",
   "metadata": {},
   "source": [
    "1. Pré-processamento dos ficheiros\n",
    "2. EDA das variáveis que influenciam o dwell time"
   ]
  },
  {
   "cell_type": "code",
   "execution_count": 4,
   "id": "2c99c084",
   "metadata": {},
   "outputs": [
    {
     "name": "stdout",
     "output_type": "stream",
     "text": [
      "\n"
     ]
    }
   ],
   "source": [
    "print('')"
   ]
  },
  {
   "cell_type": "markdown",
   "id": "278ae580",
   "metadata": {},
   "source": [
    "## 4. Métodos e algoritmos"
   ]
  },
  {
   "cell_type": "markdown",
   "id": "7a890043",
   "metadata": {},
   "source": [
    "1. Ferramentas e software analítico\n",
    "2. Técnicas de análise de dados\n",
    "    1. Ajustes lineares\n",
    "    2. Modelagem não paramétrica"
   ]
  },
  {
   "cell_type": "markdown",
   "id": "397af7c2",
   "metadata": {},
   "source": [
    "## 5. Vizualização e interpretação "
   ]
  },
  {
   "cell_type": "markdown",
   "id": "0f1b7ec2",
   "metadata": {},
   "source": [
    "Diretrizes para interpretar as visualizações de dados criadas (gráficos)."
   ]
  },
  {
   "cell_type": "markdown",
   "id": "e4428d60",
   "metadata": {},
   "source": [
    "## 6. Resultados finais"
   ]
  },
  {
   "cell_type": "markdown",
   "id": "05f6dfb5",
   "metadata": {},
   "source": [
    "## 7. Conclusões"
   ]
  }
 ],
 "metadata": {
  "kernelspec": {
   "display_name": "Python 3 (ipykernel)",
   "language": "python",
   "name": "python3"
  },
  "language_info": {
   "codemirror_mode": {
    "name": "ipython",
    "version": 3
   },
   "file_extension": ".py",
   "mimetype": "text/x-python",
   "name": "python",
   "nbconvert_exporter": "python",
   "pygments_lexer": "ipython3",
   "version": "3.9.7"
  }
 },
 "nbformat": 4,
 "nbformat_minor": 5
}
